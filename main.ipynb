{
 "cells": [
  {
   "cell_type": "code",
   "execution_count": 1,
   "id": "f8dc8033",
   "metadata": {},
   "outputs": [
    {
     "name": "stdout",
     "output_type": "stream",
     "text": [
      "Using matplotlib backend: Qt5Agg\n",
      "Populating the interactive namespace from numpy and matplotlib\n"
     ]
    }
   ],
   "source": [
    "from mpl_toolkits.mplot3d import Axes3D\n",
    "%pylab\n",
    "import scipy as sc, sympy, numpy, pylab\n",
    "from scipy import optimize\n",
    "from sympy.vector import CoordSys3D, gradient\n",
    "import IPython.display as disp"
   ]
  },
  {
   "cell_type": "code",
   "execution_count": 2,
   "id": "f0cfc37a",
   "metadata": {},
   "outputs": [],
   "source": [
    "sympy.init_printing()"
   ]
  },
  {
   "cell_type": "code",
   "execution_count": 3,
   "id": "5b1d8f36",
   "metadata": {},
   "outputs": [],
   "source": [
    "def makeData():\n",
    "\tx = numpy.arange(-5, 5, 0.01)\n",
    "\ty = numpy.arange(-5, 5, 0.01)\n",
    "\txgrid, ygrid = numpy.meshgrid(x, y)\n",
    "\tzgrid = func(xgrid, ygrid)\n",
    "\treturn xgrid, ygrid, zgrid"
   ]
  },
  {
   "cell_type": "code",
   "execution_count": 4,
   "id": "431022fe",
   "metadata": {},
   "outputs": [],
   "source": [
    "def func(x1, x2):\n",
    "\treturn (numpy.sin(x1) * numpy.cos(x2)) / (2 * x1)"
   ]
  },
  {
   "cell_type": "code",
   "execution_count": 5,
   "id": "a3872094",
   "metadata": {},
   "outputs": [],
   "source": [
    "def func1(x):\n",
    "\treturn func(*x)"
   ]
  },
  {
   "cell_type": "code",
   "execution_count": 6,
   "id": "9c0fff46",
   "metadata": {},
   "outputs": [],
   "source": [
    "x, y, z = makeData()"
   ]
  },
  {
   "cell_type": "code",
   "execution_count": 7,
   "id": "c80a2ba4",
   "metadata": {},
   "outputs": [
    {
     "name": "stdout",
     "output_type": "stream",
     "text": [
      "-0.4999999999346162\n"
     ]
    }
   ],
   "source": [
    "begin = (0.1, 0.2)\n",
    "res = optimize.minimize(func1, x0=begin)\n",
    "print(res.fun)"
   ]
  },
  {
   "cell_type": "code",
   "execution_count": 8,
   "id": "be44f015",
   "metadata": {},
   "outputs": [
    {
     "data": {
      "text/plain": [
       "<mpl_toolkits.mplot3d.art3d.Path3DCollection at 0x1aea0d82400>"
      ]
     },
     "execution_count": 8,
     "metadata": {},
     "output_type": "execute_result"
    }
   ],
   "source": [
    "fig = pylab.figure()\n",
    "axes = Axes3D(fig)\n",
    "axes.plot_surface(x, y, z, color='green', alpha=0.2)\n",
    "\n",
    "axes.scatter3D(begin[0], begin[1], func(begin[0], begin[1]), s=100, color='blue')\n",
    "axes.scatter3D(res.x[0], res.x[1], func(res.x[0], res.x[1]), s=100, color='red')"
   ]
  },
  {
   "cell_type": "code",
   "execution_count": 9,
   "id": "81693985",
   "metadata": {},
   "outputs": [
    {
     "name": "stdout",
     "output_type": "stream",
     "text": [
      "(cos(.x)*cos(.y)/(2*.x) - sin(.x)*cos(.y)/(2*.x**2))*.i + (-sin(.x)*sin(.y)/(2*.x))*.j\n"
     ]
    }
   ],
   "source": [
    "R = CoordSys3D('')\n",
    "gradX, gradY = sympy.symbols(('x y'))\n",
    "s1 = ((sympy.sin(R.x) * sympy.cos(R.y)) / (2 * R.x))\n",
    "print(gradient(s1))"
   ]
  },
  {
   "cell_type": "code",
   "execution_count": 10,
   "id": "54610190",
   "metadata": {},
   "outputs": [
    {
     "data": {
      "image/png": "[encoded data removed]",
      "text/latex": [
       "$\\displaystyle (\\frac{\\cos{\\left(\\mathbf{{x}_{}} \\right)} \\cos{\\left(\\mathbf{{y}_{}} \\right)}}{2 \\mathbf{{x}_{}}} - \\frac{\\sin{\\left(\\mathbf{{x}_{}} \\right)} \\cos{\\left(\\mathbf{{y}_{}} \\right)}}{2 \\mathbf{{x}_{}}^{2}})\\mathbf{\\hat{i}_{}} + (- \\frac{\\sin{\\left(\\mathbf{{x}_{}} \\right)} \\sin{\\left(\\mathbf{{y}_{}} \\right)}}{2 \\mathbf{{x}_{}}})\\mathbf{\\hat{j}_{}}$"
      ],
      "text/plain": [
       "⎛cos(x_)⋅cos(y_)   sin(x_)⋅cos(y_)⎞      ⎛-sin(x_)⋅sin(y_) ⎞   \n",
       "⎜─────────────── - ───────────────⎟ i_ + ⎜─────────────────⎟ j_\n",
       "⎜      2⋅x_                 2     ⎟      ⎝       2⋅x_      ⎠   \n",
       "⎝                       2⋅x_      ⎠                            "
      ]
     },
     "metadata": {},
     "output_type": "display_data"
    }
   ],
   "source": [
    "disp.display(gradient(s1))"
   ]
  }
 ],
 "metadata": {
  "kernelspec": {
   "display_name": "Python 3",
   "language": "python",
   "name": "python3"
  },
  "language_info": {
   "codemirror_mode": {
    "name": "ipython",
    "version": 3
   },
   "file_extension": ".py",
   "mimetype": "text/x-python",
   "name": "python",
   "nbconvert_exporter": "python",
   "pygments_lexer": "ipython3",
   "version": "3.8.8"
  }
 },
 "nbformat": 4,
 "nbformat_minor": 5
}
